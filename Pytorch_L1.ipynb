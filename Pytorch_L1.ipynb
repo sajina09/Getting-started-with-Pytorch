{
  "nbformat": 4,
  "nbformat_minor": 0,
  "metadata": {
    "colab": {
      "provenance": [],
      "gpuType": "T4"
    },
    "kernelspec": {
      "name": "python3",
      "display_name": "Python 3"
    },
    "language_info": {
      "name": "python"
    },
    "accelerator": "GPU"
  },
  "cells": [
    {
      "cell_type": "markdown",
      "source": [
        "## This is the begining of something really beautiful."
      ],
      "metadata": {
        "id": "AywXV2TJfKjG"
      }
    },
    {
      "cell_type": "code",
      "execution_count": null,
      "metadata": {
        "colab": {
          "base_uri": "https://localhost:8080/"
        },
        "id": "oxg3mCY1etyW",
        "outputId": "47523f20-9b88-4e40-c551-d49ed313f6af"
      },
      "outputs": [
        {
          "output_type": "stream",
          "name": "stdout",
          "text": [
            "Hello, I am learning all the good things in Pytorch\n"
          ]
        }
      ],
      "source": [
        "print(\"Hello, I am learning all the good things in Pytorch\")"
      ]
    },
    {
      "cell_type": "code",
      "source": [
        "!nvidia-smi"
      ],
      "metadata": {
        "colab": {
          "base_uri": "https://localhost:8080/"
        },
        "id": "FN8mP6TMe4WP",
        "outputId": "b3d5469f-5e68-4432-e87b-76bf83baec19"
      },
      "execution_count": null,
      "outputs": [
        {
          "output_type": "stream",
          "name": "stdout",
          "text": [
            "/bin/bash: line 1: nvidia-smi: command not found\n"
          ]
        }
      ]
    },
    {
      "cell_type": "markdown",
      "source": [],
      "metadata": {
        "id": "GdMZWJOfgC2b"
      }
    },
    {
      "cell_type": "code",
      "source": [
        "import torch\n",
        "import pandas as pd\n",
        "import numpy as np\n",
        "import matplotlib.pyplot as plt\n",
        "print(torch.__version__)"
      ],
      "metadata": {
        "colab": {
          "base_uri": "https://localhost:8080/"
        },
        "id": "ptTx-9uPgg-i",
        "outputId": "e006f5c9-24d8-4d0e-f712-e29bb96646cc"
      },
      "execution_count": null,
      "outputs": [
        {
          "output_type": "stream",
          "name": "stdout",
          "text": [
            "2.5.1+cu121\n"
          ]
        }
      ]
    },
    {
      "cell_type": "markdown",
      "source": [
        "## Intoduction to tensors"
      ],
      "metadata": {
        "id": "_F56sOe4gjuh"
      }
    },
    {
      "cell_type": "code",
      "source": [
        "# Scaler Tensor\n",
        "scaler = torch.tensor(7) #\n",
        "scaler"
      ],
      "metadata": {
        "colab": {
          "base_uri": "https://localhost:8080/"
        },
        "id": "YE-f-aDYmPPn",
        "outputId": "e64553d9-d481-411a-a12b-7c356a774191"
      },
      "execution_count": null,
      "outputs": [
        {
          "output_type": "execute_result",
          "data": {
            "text/plain": [
              "tensor(7)"
            ]
          },
          "metadata": {},
          "execution_count": 2
        }
      ]
    },
    {
      "cell_type": "code",
      "source": [
        "scaler.ndim"
      ],
      "metadata": {
        "colab": {
          "base_uri": "https://localhost:8080/"
        },
        "id": "Udn_pJORmYsE",
        "outputId": "fd0eb227-c367-42f5-b3e6-6f24da65789c"
      },
      "execution_count": null,
      "outputs": [
        {
          "output_type": "execute_result",
          "data": {
            "text/plain": [
              "0"
            ]
          },
          "metadata": {},
          "execution_count": 3
        }
      ]
    },
    {
      "cell_type": "code",
      "source": [
        "scaler.item() # getting tensor back as python int"
      ],
      "metadata": {
        "colab": {
          "base_uri": "https://localhost:8080/"
        },
        "id": "ajbvnY4gmocf",
        "outputId": "2f6223b1-380c-4ef3-e3a0-7b1c9f0f5217"
      },
      "execution_count": null,
      "outputs": [
        {
          "output_type": "execute_result",
          "data": {
            "text/plain": [
              "7"
            ]
          },
          "metadata": {},
          "execution_count": 4
        }
      ]
    },
    {
      "cell_type": "code",
      "source": [
        "vector = torch.tensor([7,7])\n",
        "vector"
      ],
      "metadata": {
        "colab": {
          "base_uri": "https://localhost:8080/"
        },
        "id": "zn_JuiUCm4qY",
        "outputId": "55b152d4-9f0e-459e-abb9-31806c942df8"
      },
      "execution_count": null,
      "outputs": [
        {
          "output_type": "execute_result",
          "data": {
            "text/plain": [
              "tensor([7, 7])"
            ]
          },
          "metadata": {},
          "execution_count": 5
        }
      ]
    },
    {
      "cell_type": "code",
      "source": [
        "vector.shape"
      ],
      "metadata": {
        "colab": {
          "base_uri": "https://localhost:8080/"
        },
        "id": "XDxLv1TnnAFq",
        "outputId": "efd1d025-a967-48c5-cfd3-112979fe4775"
      },
      "execution_count": null,
      "outputs": [
        {
          "output_type": "execute_result",
          "data": {
            "text/plain": [
              "torch.Size([2])"
            ]
          },
          "metadata": {},
          "execution_count": 6
        }
      ]
    },
    {
      "cell_type": "code",
      "source": [
        "test = torch.tensor([[[[1,2]]],[[[1,2]]]])"
      ],
      "metadata": {
        "id": "OdkTB__rnVZX"
      },
      "execution_count": null,
      "outputs": []
    },
    {
      "cell_type": "code",
      "source": [
        "test.shape"
      ],
      "metadata": {
        "colab": {
          "base_uri": "https://localhost:8080/"
        },
        "id": "KzDqHhQYpKp7",
        "outputId": "c485b291-c2a5-48ca-89fd-0f65a711860e"
      },
      "execution_count": null,
      "outputs": [
        {
          "output_type": "execute_result",
          "data": {
            "text/plain": [
              "torch.Size([2, 1, 1, 2])"
            ]
          },
          "metadata": {},
          "execution_count": 23
        }
      ]
    },
    {
      "cell_type": "markdown",
      "source": [
        "## Random Tensors : a multidimensional array where each element is filled with a random number\n",
        "\n",
        "### Why is random Tensor important\n",
        "How neural network works is\n",
        "- Starts with a random numbers\n",
        "- Looks at the data\n",
        "- Updares the random numbers\n",
        "- Looks at the data\n",
        "- Updates the random numbers"
      ],
      "metadata": {
        "id": "bsu0QfASpTKa"
      }
    },
    {
      "cell_type": "code",
      "source": [
        "random_tensor = torch.rand(3,4)\n",
        "random_tensor\n"
      ],
      "metadata": {
        "colab": {
          "base_uri": "https://localhost:8080/"
        },
        "id": "y1tReZ-QqcjZ",
        "outputId": "987a8549-2a84-4696-c6c8-d8decb705d4a"
      },
      "execution_count": null,
      "outputs": [
        {
          "output_type": "execute_result",
          "data": {
            "text/plain": [
              "tensor([[0.7835, 0.8230, 0.2028, 0.1052],\n",
              "        [0.0674, 0.3023, 0.2456, 0.4564],\n",
              "        [0.1743, 0.4011, 0.2795, 0.4679]])"
            ]
          },
          "metadata": {},
          "execution_count": 24
        }
      ]
    },
    {
      "cell_type": "markdown",
      "source": [
        "## Create a random tensor with simialr shape to an image tensor"
      ],
      "metadata": {
        "id": "M_zg0L7oqgmn"
      }
    },
    {
      "cell_type": "code",
      "source": [
        "random_image_size_tensor = torch.rand(size=(224,224,3)) # height, width, color channels\n",
        "random_image_size_tensor.shape, random_image_size_tensor.ndim"
      ],
      "metadata": {
        "colab": {
          "base_uri": "https://localhost:8080/"
        },
        "id": "_V34dDz9s1en",
        "outputId": "8f294dbf-e496-4f16-b0c2-9a9c3a9d405a"
      },
      "execution_count": null,
      "outputs": [
        {
          "output_type": "execute_result",
          "data": {
            "text/plain": [
              "(torch.Size([224, 224, 3]), 3)"
            ]
          },
          "metadata": {},
          "execution_count": 26
        }
      ]
    },
    {
      "cell_type": "markdown",
      "source": [
        "## Zero and One Tensors"
      ],
      "metadata": {
        "id": "nmczxXg4s7Vp"
      }
    },
    {
      "cell_type": "code",
      "source": [
        "zeros = torch.zeros(size=(3,4))\n",
        "zeros"
      ],
      "metadata": {
        "colab": {
          "base_uri": "https://localhost:8080/"
        },
        "id": "TlI6MRDUt-nh",
        "outputId": "b36fd086-cda0-4b03-b119-e24906843817"
      },
      "execution_count": null,
      "outputs": [
        {
          "output_type": "execute_result",
          "data": {
            "text/plain": [
              "tensor([[0., 0., 0., 0.],\n",
              "        [0., 0., 0., 0.],\n",
              "        [0., 0., 0., 0.]])"
            ]
          },
          "metadata": {},
          "execution_count": 28
        }
      ]
    },
    {
      "cell_type": "code",
      "source": [
        "ones = torch.ones(size=(3,4))\n",
        "ones"
      ],
      "metadata": {
        "colab": {
          "base_uri": "https://localhost:8080/"
        },
        "id": "qkvXx94OuBHd",
        "outputId": "b640a643-0c1c-4ab1-bd66-fc5b7a4d9d8f"
      },
      "execution_count": null,
      "outputs": [
        {
          "output_type": "execute_result",
          "data": {
            "text/plain": [
              "tensor([[1., 1., 1., 1.],\n",
              "        [1., 1., 1., 1.],\n",
              "        [1., 1., 1., 1.]])"
            ]
          },
          "metadata": {},
          "execution_count": 29
        }
      ]
    },
    {
      "cell_type": "code",
      "source": [
        "ones.dtype"
      ],
      "metadata": {
        "colab": {
          "base_uri": "https://localhost:8080/"
        },
        "id": "mHf6Nt3BuCEp",
        "outputId": "677784bd-7cf5-4ad2-ae8d-62dab2d3370f"
      },
      "execution_count": null,
      "outputs": [
        {
          "output_type": "execute_result",
          "data": {
            "text/plain": [
              "torch.float32"
            ]
          },
          "metadata": {},
          "execution_count": 31
        }
      ]
    },
    {
      "cell_type": "markdown",
      "source": [
        "## Range and tensors-like"
      ],
      "metadata": {
        "id": "jLaK7r5GuFDk"
      }
    },
    {
      "cell_type": "code",
      "source": [
        "one_to_ten = torch.arange(1,11)\n",
        "one_to_ten"
      ],
      "metadata": {
        "colab": {
          "base_uri": "https://localhost:8080/"
        },
        "id": "gYMndcnJuRmQ",
        "outputId": "9903ef12-e639-4a5e-c608-a65263d5e26d"
      },
      "execution_count": null,
      "outputs": [
        {
          "output_type": "execute_result",
          "data": {
            "text/plain": [
              "tensor([ 1,  2,  3,  4,  5,  6,  7,  8,  9, 10])"
            ]
          },
          "metadata": {},
          "execution_count": 35
        }
      ]
    },
    {
      "cell_type": "code",
      "source": [
        "# Tensor like: when you wanna make a simialar tensor without specifying the shape of a tensor.\n",
        "ten_zeros = torch.zeros_like(input=one_to_ten)\n",
        "ten_zeros"
      ],
      "metadata": {
        "colab": {
          "base_uri": "https://localhost:8080/"
        },
        "id": "dy0IMFiHuXPz",
        "outputId": "b92334bd-6b04-46fe-a861-94650974f38b"
      },
      "execution_count": null,
      "outputs": [
        {
          "output_type": "execute_result",
          "data": {
            "text/plain": [
              "tensor([0, 0, 0, 0, 0, 0, 0, 0, 0, 0])"
            ]
          },
          "metadata": {},
          "execution_count": 36
        }
      ]
    },
    {
      "cell_type": "markdown",
      "source": [
        "## Tensor Datatype\n",
        "\n",
        "### Precision: By default it is 32\n",
        "  - Single precsion : 32 bit -  for normal\n",
        "  - Double Precision : 64 bit - for more accuracy\n",
        "  - Half Precison : 16 bit - Speeding up the calculation\n",
        "\n",
        "Note : Tensor datatypes error is the most run into error:\n",
        "  1. Not right datatype\n",
        "  2. Not right shape\n",
        "  3. Not right device"
      ],
      "metadata": {
        "id": "qBYDI0aLuwtD"
      }
    },
    {
      "cell_type": "code",
      "source": [
        "float_32_tensor = torch.tensor([3.0,6.0,9.0],\n",
        "                               dtype=None,\n",
        "                               device=None, # what device is your tensor on eg: \"cuda\"\n",
        "                               requires_grad=False ) # should track the gradient or not\n",
        "float_32_tensor"
      ],
      "metadata": {
        "colab": {
          "base_uri": "https://localhost:8080/"
        },
        "id": "vln5HlX8vHGL",
        "outputId": "bf24e654-da33-46e5-83de-442b324a43e4"
      },
      "execution_count": null,
      "outputs": [
        {
          "output_type": "execute_result",
          "data": {
            "text/plain": [
              "tensor([3., 6., 9.])"
            ]
          },
          "metadata": {},
          "execution_count": 37
        }
      ]
    },
    {
      "cell_type": "code",
      "source": [
        "# Convert the float32 to float16 tensor\n",
        "float_16_tensor = float_32_tensor.type(torch.float16)\n",
        "float_16_tensor"
      ],
      "metadata": {
        "colab": {
          "base_uri": "https://localhost:8080/"
        },
        "id": "x6Di76M1vch8",
        "outputId": "9ff1ea0b-dcde-4eb9-f62f-a388ef1ab324"
      },
      "execution_count": null,
      "outputs": [
        {
          "output_type": "execute_result",
          "data": {
            "text/plain": [
              "tensor([3., 6., 9.], dtype=torch.float16)"
            ]
          },
          "metadata": {},
          "execution_count": 38
        }
      ]
    },
    {
      "cell_type": "code",
      "source": [
        "multiplying_tensor = float_16_tensor * float_32_tensor\n",
        "multiplying_tensor.dtype"
      ],
      "metadata": {
        "colab": {
          "base_uri": "https://localhost:8080/"
        },
        "id": "x-g_Z6-txVFi",
        "outputId": "7329f47d-e830-411d-ff6c-5c0577b80811"
      },
      "execution_count": null,
      "outputs": [
        {
          "output_type": "execute_result",
          "data": {
            "text/plain": [
              "torch.float32"
            ]
          },
          "metadata": {},
          "execution_count": 41
        }
      ]
    },
    {
      "cell_type": "code",
      "source": [
        "Some_32_tensor = torch.tensor([3,6,9], dtype=torch.float32, device='cpu')\n",
        "Some_32_tensor"
      ],
      "metadata": {
        "id": "1ToKLfWYxbFH",
        "colab": {
          "base_uri": "https://localhost:8080/"
        },
        "outputId": "8c5be15c-9614-4a3a-e122-d11a3f53ea77"
      },
      "execution_count": null,
      "outputs": [
        {
          "output_type": "execute_result",
          "data": {
            "text/plain": [
              "tensor([3., 6., 9.])"
            ]
          },
          "metadata": {},
          "execution_count": 10
        }
      ]
    },
    {
      "cell_type": "code",
      "source": [
        "## Why is torch.matmul way faster?"
      ],
      "metadata": {
        "id": "_H_2enOvXs1-"
      },
      "execution_count": null,
      "outputs": []
    },
    {
      "cell_type": "markdown",
      "source": [
        "## Adjust shape of tensor"
      ],
      "metadata": {
        "id": "l_hfEfWHaV3f"
      }
    },
    {
      "cell_type": "code",
      "source": [
        "tensor_A = torch.tensor([[3,2],[4,5],[6,7]])\n",
        "tensor_B = torch.tensor([[1,2],[3,4],[5,6]])\n"
      ],
      "metadata": {
        "id": "cVax5KNna-t8"
      },
      "execution_count": null,
      "outputs": []
    },
    {
      "cell_type": "code",
      "source": [
        "# Can't do this multiplication because the shape doesnt match for matrix multiplication torch.matmul(tensor_A, tensor_B)\n",
        "\n",
        "# Solution: Transpose\n",
        "tensor_B = tensor_B.T"
      ],
      "metadata": {
        "id": "V84JCfdgbQ3U"
      },
      "execution_count": null,
      "outputs": []
    },
    {
      "cell_type": "code",
      "source": [
        "torch.matmul(tensor_A, tensor_B)"
      ],
      "metadata": {
        "colab": {
          "base_uri": "https://localhost:8080/"
        },
        "id": "kTPn7PfPbbV2",
        "outputId": "dbe20f27-1069-4783-c63d-09be89186b59"
      },
      "execution_count": null,
      "outputs": [
        {
          "output_type": "execute_result",
          "data": {
            "text/plain": [
              "tensor([[ 7, 17, 27],\n",
              "        [14, 32, 50],\n",
              "        [20, 46, 72]])"
            ]
          },
          "metadata": {},
          "execution_count": 21
        }
      ]
    },
    {
      "cell_type": "markdown",
      "source": [
        "## Tensor aggregation"
      ],
      "metadata": {
        "id": "lA8OSJ-zbp9Q"
      }
    },
    {
      "cell_type": "code",
      "source": [
        "x=torch.arange(0,10)\n",
        "x, x.dtype"
      ],
      "metadata": {
        "colab": {
          "base_uri": "https://localhost:8080/"
        },
        "id": "2el7VEpTcAps",
        "outputId": "a10ce482-d923-4f70-9695-955e5b11fd12"
      },
      "execution_count": null,
      "outputs": [
        {
          "output_type": "execute_result",
          "data": {
            "text/plain": [
              "(tensor([0, 1, 2, 3, 4, 5, 6, 7, 8, 9]), torch.int64)"
            ]
          },
          "metadata": {},
          "execution_count": 24
        }
      ]
    },
    {
      "cell_type": "code",
      "source": [
        "x.min(), x.max(), x.type(torch.float32).mean() ## You needed to change the type of x because by default arange creates long int, and mean can't work on long int."
      ],
      "metadata": {
        "colab": {
          "base_uri": "https://localhost:8080/"
        },
        "id": "IpAdNVZHcmiZ",
        "outputId": "1e86bfc4-5e6f-4dbd-a668-801596ae790e"
      },
      "execution_count": null,
      "outputs": [
        {
          "output_type": "execute_result",
          "data": {
            "text/plain": [
              "(tensor(0), tensor(9), tensor(4.5000))"
            ]
          },
          "metadata": {},
          "execution_count": 28
        }
      ]
    },
    {
      "cell_type": "code",
      "source": [
        "torch.sum(x)"
      ],
      "metadata": {
        "colab": {
          "base_uri": "https://localhost:8080/"
        },
        "id": "DgMfcui0cxRl",
        "outputId": "b8d6ec8e-857f-4636-fa23-eb556ca611ce"
      },
      "execution_count": null,
      "outputs": [
        {
          "output_type": "execute_result",
          "data": {
            "text/plain": [
              "tensor(45)"
            ]
          },
          "metadata": {},
          "execution_count": 30
        }
      ]
    },
    {
      "cell_type": "markdown",
      "source": [
        " ## Reshaping , view, stack, sqeeuze\n",
        " 1. Reshapes an input tensor to a defined shape\n",
        " 2. View returns a view of an input tensor of certain shape but keep the same memory as the original tensor\n",
        " 3. Stacking combines multiple tensors on top of each other (vstack) or side by side (hstack)\n",
        " 4. Squeeze removes all '1' dimensions from a tensor\n",
        " 5. Unsqueeze adds a '1' dimension to a target tensor\n",
        " 6. Permute returns a view of the input with dimensions permuted (swapped) in a certain way\n"
      ],
      "metadata": {
        "id": "-WuNv9hYdD-V"
      }
    },
    {
      "cell_type": "code",
      "source": [
        "x_reshaped = x.reshape(2,5)\n",
        "x_reshaped"
      ],
      "metadata": {
        "colab": {
          "base_uri": "https://localhost:8080/"
        },
        "id": "7mtNBFZ8egOF",
        "outputId": "69a8b383-e51d-42dd-bfaa-7ecf0dc01bd6"
      },
      "execution_count": null,
      "outputs": [
        {
          "output_type": "execute_result",
          "data": {
            "text/plain": [
              "tensor([[0, 1, 2, 3, 4],\n",
              "        [5, 6, 7, 8, 9]])"
            ]
          },
          "metadata": {},
          "execution_count": 35
        }
      ]
    },
    {
      "cell_type": "code",
      "source": [
        "# Squeeze\n",
        "x_squeezed = torch.squeeze(x)\n",
        "x_squeezed"
      ],
      "metadata": {
        "colab": {
          "base_uri": "https://localhost:8080/"
        },
        "id": "Vn_FY8XifIat",
        "outputId": "5a61d1d5-a279-4a9b-cdca-2f4ff02a9c3e"
      },
      "execution_count": null,
      "outputs": [
        {
          "output_type": "execute_result",
          "data": {
            "text/plain": [
              "tensor([0, 1, 2, 3, 4, 5, 6, 7, 8, 9])"
            ]
          },
          "metadata": {},
          "execution_count": 39
        }
      ]
    },
    {
      "cell_type": "markdown",
      "source": [
        " ## Numpy to pytorch\n"
      ],
      "metadata": {
        "id": "cgJjcreOgFWS"
      }
    },
    {
      "cell_type": "code",
      "source": [
        "import numpy as np\n",
        "import torch\n",
        "\n",
        "array = np.arange(1.0,8.0)\n",
        "tensor = torch.from_numpy(array)\n",
        "# The defualt type of numpy is float64, whearas that of pytorch is float32\n",
        "# While converting the numpy to tensor it will be of float64\n",
        "array, tensor"
      ],
      "metadata": {
        "colab": {
          "base_uri": "https://localhost:8080/"
        },
        "id": "F1wLlZCPdAGb",
        "outputId": "b0409710-b925-4ef0-c8ed-d3f0134ad16e"
      },
      "execution_count": null,
      "outputs": [
        {
          "output_type": "execute_result",
          "data": {
            "text/plain": [
              "(array([1., 2., 3., 4., 5., 6., 7.]),\n",
              " tensor([1., 2., 3., 4., 5., 6., 7.], dtype=torch.float64))"
            ]
          },
          "metadata": {},
          "execution_count": 2
        }
      ]
    },
    {
      "cell_type": "markdown",
      "source": [
        "## Random Seed : removing the randomness from random."
      ],
      "metadata": {
        "id": "Vu5qcuFYdCFj"
      }
    },
    {
      "cell_type": "code",
      "source": [
        "RANDOM_SEED = 42\n",
        "torch.manual_seed(RANDOM_SEED)\n",
        "random_tensor_C = torch.rand(3,4)\n",
        "random_tensor_C\n",
        "## Reporducability"
      ],
      "metadata": {
        "colab": {
          "base_uri": "https://localhost:8080/"
        },
        "id": "yJA3RiFwsJe_",
        "outputId": "50e3e66b-8466-46e6-92cb-eaf68cb8d071"
      },
      "execution_count": null,
      "outputs": [
        {
          "output_type": "execute_result",
          "data": {
            "text/plain": [
              "tensor([[0.8823, 0.9150, 0.3829, 0.9593],\n",
              "        [0.3904, 0.6009, 0.2566, 0.7936],\n",
              "        [0.9408, 0.1332, 0.9346, 0.5936]])"
            ]
          },
          "metadata": {},
          "execution_count": 8
        }
      ]
    },
    {
      "cell_type": "markdown",
      "source": [
        "## Running tensors and Pytorch object on GPU"
      ],
      "metadata": {
        "id": "JBMq7WbosK3E"
      }
    },
    {
      "cell_type": "code",
      "source": [
        "!nvidia-smi"
      ],
      "metadata": {
        "colab": {
          "base_uri": "https://localhost:8080/"
        },
        "id": "BcSS3iuRsYYs",
        "outputId": "033e0b5b-c103-4ebb-9c0a-b560bea74484"
      },
      "execution_count": null,
      "outputs": [
        {
          "output_type": "stream",
          "name": "stdout",
          "text": [
            "Wed Jan 15 16:08:29 2025       \n",
            "+---------------------------------------------------------------------------------------+\n",
            "| NVIDIA-SMI 535.104.05             Driver Version: 535.104.05   CUDA Version: 12.2     |\n",
            "|-----------------------------------------+----------------------+----------------------+\n",
            "| GPU  Name                 Persistence-M | Bus-Id        Disp.A | Volatile Uncorr. ECC |\n",
            "| Fan  Temp   Perf          Pwr:Usage/Cap |         Memory-Usage | GPU-Util  Compute M. |\n",
            "|                                         |                      |               MIG M. |\n",
            "|=========================================+======================+======================|\n",
            "|   0  Tesla T4                       Off | 00000000:00:04.0 Off |                    0 |\n",
            "| N/A   38C    P0              25W /  70W |    121MiB / 15360MiB |      0%      Default |\n",
            "|                                         |                      |                  N/A |\n",
            "+-----------------------------------------+----------------------+----------------------+\n",
            "                                                                                         \n",
            "+---------------------------------------------------------------------------------------+\n",
            "| Processes:                                                                            |\n",
            "|  GPU   GI   CI        PID   Type   Process name                            GPU Memory |\n",
            "|        ID   ID                                                             Usage      |\n",
            "|=======================================================================================|\n",
            "+---------------------------------------------------------------------------------------+\n"
          ]
        }
      ]
    },
    {
      "cell_type": "code",
      "source": [
        "\n",
        "import torch\n",
        "\n",
        "# Check for GPU availability\n",
        "if torch.cuda.is_available():\n",
        "  print(\"GPU is available\")\n",
        "  device = torch.device(\"cuda\")\n",
        "else:\n",
        "  print(\"GPU is not available, using CPU instead\")\n",
        "  device = torch.device(\"cpu\")\n",
        "\n",
        "# Example tensor on the selected device\n",
        "tensor = torch.rand(3,4).to(device)\n",
        "tensor"
      ],
      "metadata": {
        "colab": {
          "base_uri": "https://localhost:8080/"
        },
        "id": "wVqHQfMeuFvX",
        "outputId": "101d3a2d-b6c8-4cc0-880c-4f37a1d2c6dc"
      },
      "execution_count": null,
      "outputs": [
        {
          "output_type": "stream",
          "name": "stdout",
          "text": [
            "GPU is available\n"
          ]
        },
        {
          "output_type": "execute_result",
          "data": {
            "text/plain": [
              "tensor([[0.3427, 0.5646, 0.6860, 0.4560],\n",
              "        [0.9532, 0.2149, 0.2398, 0.8521],\n",
              "        [0.2301, 0.9590, 0.1731, 0.2373]], device='cuda:0')"
            ]
          },
          "metadata": {},
          "execution_count": 1
        }
      ]
    },
    {
      "cell_type": "code",
      "source": [],
      "metadata": {
        "id": "l-mlxRzeuI4v"
      },
      "execution_count": null,
      "outputs": []
    }
  ]
}