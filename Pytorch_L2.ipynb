{
  "nbformat": 4,
  "nbformat_minor": 0,
  "metadata": {
    "colab": {
      "provenance": []
    },
    "kernelspec": {
      "name": "python3",
      "display_name": "Python 3"
    },
    "language_info": {
      "name": "python"
    }
  },
  "cells": [
    {
      "cell_type": "markdown",
      "source": [
        "## This notebook will have\n",
        "- Build a model\n",
        "- Train a model\n",
        "- Run a model\n"
      ],
      "metadata": {
        "id": "GVXJgiv3l7l3"
      }
    },
    {
      "cell_type": "code",
      "execution_count": null,
      "metadata": {
        "colab": {
          "base_uri": "https://localhost:8080/",
          "height": 35
        },
        "id": "VXHdh3rOlxav",
        "outputId": "2cc75273-2a51-4b4c-ab4b-325e36fc07c5"
      },
      "outputs": [
        {
          "output_type": "execute_result",
          "data": {
            "text/plain": [
              "'2.5.1+cu121'"
            ],
            "application/vnd.google.colaboratory.intrinsic+json": {
              "type": "string"
            }
          },
          "metadata": {},
          "execution_count": 99
        }
      ],
      "source": [
        "import torch\n",
        "from torch import nn\n",
        "import matplotlib.pyplot as plt\n",
        "\n",
        "torch.__version__"
      ]
    },
    {
      "cell_type": "markdown",
      "source": [
        "## 1. Data Preparing and loading\n",
        "Use Linerar Regression to make a straight line using known parameters."
      ],
      "metadata": {
        "id": "F1vfzDVNmg0A"
      }
    },
    {
      "cell_type": "code",
      "source": [
        "weight = 0.7\n",
        "bias = 0.3\n",
        "\n",
        "start = 0\n",
        "end = 1\n",
        "step = 0.02\n",
        "X = torch.arange(start, end, step).unsqueeze(dim=1)\n",
        "y = weight * X + bias"
      ],
      "metadata": {
        "id": "2CjyhKmMmlwV"
      },
      "execution_count": null,
      "outputs": []
    },
    {
      "cell_type": "code",
      "source": [
        "print(\"The value of x\",X)\n",
        "print(\"The value of y\",y)\n",
        "print(\"The length of X\",len(X))\n",
        "print(\"The length of y\",len(y))"
      ],
      "metadata": {
        "colab": {
          "base_uri": "https://localhost:8080/"
        },
        "id": "jHTSxy4Vp2jt",
        "outputId": "dc74994c-331b-487e-b549-8fac6ed51341"
      },
      "execution_count": null,
      "outputs": [
        {
          "output_type": "stream",
          "name": "stdout",
          "text": [
            "The value of x tensor([[0.0000],\n",
            "        [0.0200],\n",
            "        [0.0400],\n",
            "        [0.0600],\n",
            "        [0.0800],\n",
            "        [0.1000],\n",
            "        [0.1200],\n",
            "        [0.1400],\n",
            "        [0.1600],\n",
            "        [0.1800],\n",
            "        [0.2000],\n",
            "        [0.2200],\n",
            "        [0.2400],\n",
            "        [0.2600],\n",
            "        [0.2800],\n",
            "        [0.3000],\n",
            "        [0.3200],\n",
            "        [0.3400],\n",
            "        [0.3600],\n",
            "        [0.3800],\n",
            "        [0.4000],\n",
            "        [0.4200],\n",
            "        [0.4400],\n",
            "        [0.4600],\n",
            "        [0.4800],\n",
            "        [0.5000],\n",
            "        [0.5200],\n",
            "        [0.5400],\n",
            "        [0.5600],\n",
            "        [0.5800],\n",
            "        [0.6000],\n",
            "        [0.6200],\n",
            "        [0.6400],\n",
            "        [0.6600],\n",
            "        [0.6800],\n",
            "        [0.7000],\n",
            "        [0.7200],\n",
            "        [0.7400],\n",
            "        [0.7600],\n",
            "        [0.7800],\n",
            "        [0.8000],\n",
            "        [0.8200],\n",
            "        [0.8400],\n",
            "        [0.8600],\n",
            "        [0.8800],\n",
            "        [0.9000],\n",
            "        [0.9200],\n",
            "        [0.9400],\n",
            "        [0.9600],\n",
            "        [0.9800]])\n",
            "The value of y tensor([[0.3000],\n",
            "        [0.3140],\n",
            "        [0.3280],\n",
            "        [0.3420],\n",
            "        [0.3560],\n",
            "        [0.3700],\n",
            "        [0.3840],\n",
            "        [0.3980],\n",
            "        [0.4120],\n",
            "        [0.4260],\n",
            "        [0.4400],\n",
            "        [0.4540],\n",
            "        [0.4680],\n",
            "        [0.4820],\n",
            "        [0.4960],\n",
            "        [0.5100],\n",
            "        [0.5240],\n",
            "        [0.5380],\n",
            "        [0.5520],\n",
            "        [0.5660],\n",
            "        [0.5800],\n",
            "        [0.5940],\n",
            "        [0.6080],\n",
            "        [0.6220],\n",
            "        [0.6360],\n",
            "        [0.6500],\n",
            "        [0.6640],\n",
            "        [0.6780],\n",
            "        [0.6920],\n",
            "        [0.7060],\n",
            "        [0.7200],\n",
            "        [0.7340],\n",
            "        [0.7480],\n",
            "        [0.7620],\n",
            "        [0.7760],\n",
            "        [0.7900],\n",
            "        [0.8040],\n",
            "        [0.8180],\n",
            "        [0.8320],\n",
            "        [0.8460],\n",
            "        [0.8600],\n",
            "        [0.8740],\n",
            "        [0.8880],\n",
            "        [0.9020],\n",
            "        [0.9160],\n",
            "        [0.9300],\n",
            "        [0.9440],\n",
            "        [0.9580],\n",
            "        [0.9720],\n",
            "        [0.9860]])\n",
            "The length of X 50\n",
            "The length of y 50\n"
          ]
        }
      ]
    },
    {
      "cell_type": "code",
      "source": [
        "# Creating training and test sets\n",
        "train_split = int(0.8 * len(X))\n",
        "X_train, y_train = X[:train_split], y[:train_split]\n",
        "X_test, y_test = X[train_split:], y[train_split:]"
      ],
      "metadata": {
        "id": "ppWTRjaSqAZw"
      },
      "execution_count": null,
      "outputs": []
    },
    {
      "cell_type": "code",
      "source": [
        "from sklearn.model_selection import train_test_split\n",
        "\n",
        "X_train_skl, X_test_skl, y_train_skl, y_test_skl = train_test_split(X, y, test_size=0.2, random_state=42)"
      ],
      "metadata": {
        "id": "eeiElo_tqGCq"
      },
      "execution_count": null,
      "outputs": []
    },
    {
      "cell_type": "code",
      "source": [
        "## Create a function to visualize your data\n",
        "def plot_predictions(train_data=X_train,\n",
        "                     train_labels=y_train,\n",
        "                     test_data=X_test,\n",
        "                     test_labels=y_test,\n",
        "                     predictions=None):\n",
        "  \"plots training data, test data and compares predictions\"\n",
        "  plt.figure(figsize=(10, 7))\n",
        "\n",
        "  #plot the data in blue\n",
        "  plt.scatter(train_data, train_labels, c=\"b\", s=4, label=\"training data\")\n",
        "  plt.scatter(test_data, test_labels, c=\"g\", s=4, label=\"testing data\")\n",
        "\n",
        "  if predictions is not None:\n",
        "    plt.scatter(test_data, predictions, c=\"r\", s=4, label=\"predictions\")\n",
        "\n",
        "  # Show the legedn : show the labels in the graph\n",
        "  plt.legend(prop={\"size\": 14})"
      ],
      "metadata": {
        "id": "LDg2MMwxq2Ny"
      },
      "execution_count": null,
      "outputs": []
    },
    {
      "cell_type": "code",
      "source": [
        "plot_predictions()"
      ],
      "metadata": {
        "colab": {
          "base_uri": "https://localhost:8080/",
          "height": 599
        },
        "id": "sO4lW_ufsXrG",
        "outputId": "56c5878d-6616-46e6-c616-ce07f3866f39"
      },
      "execution_count": null,
      "outputs": [
        {
          "output_type": "display_data",
          "data": {
            "text/plain": [
              "<Figure size 1000x700 with 1 Axes>"
            ],
            "image/png": "[encoded data removed]"
          },
          "metadata": {}
        }
      ]
    },
    {
      "cell_type": "markdown",
      "source": [
        "## 2. Build a Model"
      ],
      "metadata": {
        "id": "ys06w0m9sb09"
      }
    },
    {
      "cell_type": "code",
      "source": [
        "from torch import nn\n",
        "random_seed = 42\n",
        "torch.manual_seed(random_seed)\n",
        "\n",
        "class LinearRegressionModel(nn.Module):\n",
        "  def __init__(self):\n",
        "    super().__init__()\n",
        "    self.weights = nn.Parameter(torch.randn(1,\n",
        "                                           requires_grad=True,\n",
        "                                           dtype=torch.float))\n",
        "    self.bias = nn.Parameter(torch.randn(1,\n",
        "                                         requires_grad=True,\n",
        "                                         dtype=torch.float))\n",
        "  # Create you own forward method\n",
        "  def forward(self, x: torch.Tensor) -> torch.Tensor:\n",
        "    return self.weights * x + self.bias\n"
      ],
      "metadata": {
        "id": "V9k7Pwx3tNdM"
      },
      "execution_count": null,
      "outputs": []
    },
    {
      "cell_type": "markdown",
      "source": [
        "## Update the weight and bias based on training data, adjust the values to better represent ideal values\n",
        "\n",
        "By using 2 algorithms:\n",
        "1. Gradient Descent\n",
        "2. Backward propagation"
      ],
      "metadata": {
        "id": "StvoBPg8zQ0T"
      }
    },
    {
      "cell_type": "code",
      "source": [
        "h = nn.Parameter(torch.randn(1,\n",
        "                                           requires_grad=True,\n",
        "                                          dtype=torch.float))\n",
        "print(\"self.weights ----\",h)"
      ],
      "metadata": {
        "colab": {
          "base_uri": "https://localhost:8080/"
        },
        "id": "5YPGW5Pr22hS",
        "outputId": "7c77fd93-ef67-4e4d-9362-34d65fbbab2e"
      },
      "execution_count": null,
      "outputs": [
        {
          "output_type": "stream",
          "name": "stdout",
          "text": [
            "self.weights ---- Parameter containing:\n",
            "tensor([0.3367], requires_grad=True)\n"
          ]
        }
      ]
    },
    {
      "cell_type": "code",
      "source": [
        "model_0 = LinearRegressionModel()\n",
        "#Check out the parameters\n",
        "list(model_0.parameters())"
      ],
      "metadata": {
        "id": "sfIwACs64-NA",
        "colab": {
          "base_uri": "https://localhost:8080/"
        },
        "outputId": "a7d1922e-1a98-4e69-c32f-d7cd12cafaf0"
      },
      "execution_count": null,
      "outputs": [
        {
          "output_type": "execute_result",
          "data": {
            "text/plain": [
              "[Parameter containing:\n",
              " tensor([0.1288], requires_grad=True),\n",
              " Parameter containing:\n",
              " tensor([0.2345], requires_grad=True)]"
            ]
          },
          "metadata": {},
          "execution_count": 108
        }
      ]
    },
    {
      "cell_type": "code",
      "source": [
        "# List named parameters\n",
        "model_0.state_dict()"
      ],
      "metadata": {
        "colab": {
          "base_uri": "https://localhost:8080/"
        },
        "id": "hRvoU8D5Yw3T",
        "outputId": "a6d09faa-3554-48ef-c571-899c595dbc19"
      },
      "execution_count": null,
      "outputs": [
        {
          "output_type": "execute_result",
          "data": {
            "text/plain": [
              "OrderedDict([('weights', tensor([0.1288])), ('bias', tensor([0.2345]))])"
            ]
          },
          "metadata": {},
          "execution_count": 109
        }
      ]
    },
    {
      "cell_type": "code",
      "source": [
        "weight, bias"
      ],
      "metadata": {
        "colab": {
          "base_uri": "https://localhost:8080/"
        },
        "id": "yfkMRv7IZUKU",
        "outputId": "dff0663d-efa6-49a3-f750-0e97e9a514e8"
      },
      "execution_count": null,
      "outputs": [
        {
          "output_type": "execute_result",
          "data": {
            "text/plain": [
              "(0.7, 0.3)"
            ]
          },
          "metadata": {},
          "execution_count": 110
        }
      ]
    },
    {
      "cell_type": "markdown",
      "source": [
        "###### NOTE: The whole point of Deep Learning is to set the value of [('weights', tensor([0.3367])), ('bias', tensor([0.1288]))]) to be closer to value of weight, bias i.e : (0.7, 0.3)\n",
        "\n",
        "We start with a random value and make the prediction near to what we defined.\n"
      ],
      "metadata": {
        "id": "Rahb270-ZYCa"
      }
    },
    {
      "cell_type": "markdown",
      "source": [
        "## Prediction\n",
        "Making prediction using inference_mode()\n",
        "Check how good our model predicts y_test based on x_test.\n",
        "When we pass data through our model, it is gonna run it through the forward() method.\n"
      ],
      "metadata": {
        "id": "7No0M59aZr0w"
      }
    },
    {
      "cell_type": "code",
      "source": [
        "model_0.eval()\n",
        "with torch.inference_mode(): # inference removes gradient tracking.\n",
        "  y_preds = model_0(X_test)\n",
        "\n",
        "y_preds"
      ],
      "metadata": {
        "colab": {
          "base_uri": "https://localhost:8080/"
        },
        "id": "b6P5sbXSabzL",
        "outputId": "244598c9-1241-4d27-b16a-8a6bb01b1605"
      },
      "execution_count": null,
      "outputs": [
        {
          "output_type": "execute_result",
          "data": {
            "text/plain": [
              "tensor([[0.3375],\n",
              "        [0.3401],\n",
              "        [0.3427],\n",
              "        [0.3452],\n",
              "        [0.3478],\n",
              "        [0.3504],\n",
              "        [0.3530],\n",
              "        [0.3555],\n",
              "        [0.3581],\n",
              "        [0.3607]])"
            ]
          },
          "metadata": {},
          "execution_count": 111
        }
      ]
    },
    {
      "cell_type": "code",
      "source": [
        "plot_predictions(predictions=y_preds)"
      ],
      "metadata": {
        "colab": {
          "base_uri": "https://localhost:8080/",
          "height": 599
        },
        "id": "5wSFfUp2cBno",
        "outputId": "723e78df-6621-426a-9833-e844c16c03af"
      },
      "execution_count": null,
      "outputs": [
        {
          "output_type": "display_data",
          "data": {
            "text/plain": [
              "<Figure size 1000x700 with 1 Axes>"
            ],
            "image/png": "[encoded data removed]"
          },
          "metadata": {}
        }
      ]
    },
    {
      "cell_type": "markdown",
      "source": [
        "## Training\n",
        "Moving a data from unknown data towards known data.\n",
        "\n",
        "To measure how poor a model is doing: you use a loss functions.\n",
        "\n",
        "*Note: Loss function might be called cost function or  criterion.*\n",
        "\n",
        "Thinks we need to train.\n",
        "1. Loss Function\n",
        "2. Optimize - Takes into account the loss of a model and adjust's the parameters. (eg weights and bias)\n",
        "\n",
        "For Pytorch we need\n",
        "  - A trainig loop\n",
        "  - A testing loop"
      ],
      "metadata": {
        "id": "mWD1NdcsdDnb"
      }
    },
    {
      "cell_type": "markdown",
      "source": [
        "## Setting up a loss function and optimizer"
      ],
      "metadata": {
        "id": "vTPDnYDKecBO"
      }
    },
    {
      "cell_type": "code",
      "source": [
        "# Loss function\n",
        "loss_fn = nn.L1Loss()\n",
        "\n",
        "# Optimizer\n",
        "# Stochastic(Random) gradient descant\n",
        "# starts wokring in a direction randomly and if it finds a place where the error satrts to minimize,\n",
        "# it follows that path.\n",
        "optimizer = torch.optim.SGD(params=model_0.parameters(),\n",
        "                            lr=0.01)"
      ],
      "metadata": {
        "id": "HS1eIUHOfuWA"
      },
      "execution_count": null,
      "outputs": []
    },
    {
      "cell_type": "markdown",
      "source": [
        "### Building a training loop\n",
        "\n",
        "0. Looop through data\n",
        "1. Forward pass/ Forward Propagation, make prediction on data\n",
        "2. Calulate the loss (compaare forward pass pred to ground truth i.e weight and bias)\n",
        "3. Optmizier zero grad\n",
        "4. Backward propagation\n",
        "5. Optimizer step - use the optimizer to adjust our model's parameters to try and improve the loss. (Gradient descent)\n",
        "\n",
        "What is gradient? its a slope on hill.\n",
        "The bottom of the hill is \"Convergence\"\n"
      ],
      "metadata": {
        "id": "JoaDvsrEg34s"
      }
    },
    {
      "cell_type": "code",
      "source": [
        "# Epoch: 1 loop through the data... (Hyperparameter, because we have set them ourselves)\n",
        "\n",
        "epochs = 100\n",
        "\n",
        "# 0. Loop thorough the data\n",
        "for epoch in range(epochs):\n",
        "  # set the model to training model ; all gradient turns true\n",
        "  model_0.train()\n",
        "\n",
        "  #1. Forward pass\n",
        "  y_pred = model_0(X_train)\n",
        "\n",
        "  #2. Calculate the loss\n",
        "  loss = loss_fn(y_pred,y_train)\n",
        "  # print(f\"Loss: {loss}\")\n",
        "\n",
        "  #3. Optmizer zero grad\n",
        "  optimizer.zero_grad()\n",
        "\n",
        "  #4. Backward propagation\n",
        "  loss.backward()\n",
        "\n",
        "  #5. Optimizer step\n",
        "  optimizer.step()\n",
        "\n",
        "  ### Testing\n",
        "  model_0.eval() # trains off gradient tracking\n",
        "  with torch.inference_mode():\n",
        "    test_pred = model_0(X_test)\n",
        "    test_loss = loss_fn(test_pred, y_test)\n",
        "\n",
        "  if epoch % 10 == 0:\n",
        "   print(f\"Epoch: {epoch} | Loss: {loss} | Test Loss: {test_loss}\")\n",
        "   print(model_0.state_dict())"
      ],
      "metadata": {
        "colab": {
          "base_uri": "https://localhost:8080/"
        },
        "id": "JTazbKVuiV82",
        "outputId": "8cd873d6-2a2a-4cc1-f811-002dbdacfc6b"
      },
      "execution_count": null,
      "outputs": [
        {
          "output_type": "stream",
          "name": "stdout",
          "text": [
            "Epoch: 0 | Loss: 0.007015087641775608 | Test Loss: 0.002636212157085538\n",
            "OrderedDict([('weights', tensor([0.6963])), ('bias', tensor([0.3060]))])\n",
            "Epoch: 10 | Loss: 0.007015087641775608 | Test Loss: 0.002636212157085538\n",
            "OrderedDict([('weights', tensor([0.6963])), ('bias', tensor([0.3060]))])\n",
            "Epoch: 20 | Loss: 0.007015087641775608 | Test Loss: 0.002636212157085538\n",
            "OrderedDict([('weights', tensor([0.6963])), ('bias', tensor([0.3060]))])\n",
            "Epoch: 30 | Loss: 0.007015087641775608 | Test Loss: 0.002636212157085538\n",
            "OrderedDict([('weights', tensor([0.6963])), ('bias', tensor([0.3060]))])\n",
            "Epoch: 40 | Loss: 0.007015087641775608 | Test Loss: 0.002636212157085538\n",
            "OrderedDict([('weights', tensor([0.6963])), ('bias', tensor([0.3060]))])\n",
            "Epoch: 50 | Loss: 0.007015087641775608 | Test Loss: 0.002636212157085538\n",
            "OrderedDict([('weights', tensor([0.6963])), ('bias', tensor([0.3060]))])\n",
            "Epoch: 60 | Loss: 0.007015087641775608 | Test Loss: 0.002636212157085538\n",
            "OrderedDict([('weights', tensor([0.6963])), ('bias', tensor([0.3060]))])\n",
            "Epoch: 70 | Loss: 0.007015087641775608 | Test Loss: 0.002636212157085538\n",
            "OrderedDict([('weights', tensor([0.6963])), ('bias', tensor([0.3060]))])\n",
            "Epoch: 80 | Loss: 0.007015087641775608 | Test Loss: 0.002636212157085538\n",
            "OrderedDict([('weights', tensor([0.6963])), ('bias', tensor([0.3060]))])\n",
            "Epoch: 90 | Loss: 0.007015087641775608 | Test Loss: 0.002636212157085538\n",
            "OrderedDict([('weights', tensor([0.6963])), ('bias', tensor([0.3060]))])\n"
          ]
        }
      ]
    },
    {
      "cell_type": "code",
      "source": [
        "model_0.state_dict()"
      ],
      "metadata": {
        "colab": {
          "base_uri": "https://localhost:8080/"
        },
        "id": "lcAjJENauFPe",
        "outputId": "71d102e5-c4d2-406e-dd5b-d95c09b52cf1"
      },
      "execution_count": null,
      "outputs": [
        {
          "output_type": "execute_result",
          "data": {
            "text/plain": [
              "OrderedDict([('weights', tensor([0.6924])), ('bias', tensor([0.2960]))])"
            ]
          },
          "metadata": {},
          "execution_count": 122
        }
      ]
    },
    {
      "cell_type": "code",
      "source": [
        "with torch.inference_mode():\n",
        "  y_preds_new = model_0(X_test)\n",
        "\n",
        "plot_predictions(predictions=y_preds_new)"
      ],
      "metadata": {
        "colab": {
          "base_uri": "https://localhost:8080/",
          "height": 599
        },
        "id": "p0CY_UQdoHCR",
        "outputId": "dd9e6bd1-6c6b-4f2e-9492-f9b16f6577b0"
      },
      "execution_count": null,
      "outputs": [
        {
          "output_type": "display_data",
          "data": {
            "text/plain": [
              "<Figure size 1000x700 with 1 Axes>"
            ],
            "image/png": "[encoded data removed]"
          },
          "metadata": {}
        }
      ]
    },
    {
      "cell_type": "code",
      "source": [],
      "metadata": {
        "id": "vC9jB3eVpK32"
      },
      "execution_count": null,
      "outputs": []
    }
  ]
}